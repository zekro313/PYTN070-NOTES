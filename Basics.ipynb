{
 "cells": [
  {
   "cell_type": "markdown",
   "id": "f3a28f86-c4a0-4f1a-9da4-f70a5a63e152",
   "metadata": {},
   "source": [
    "# Interger \n",
    "Angka bulat seperti 1,2,3,4,5..."
   ]
  },
  {
   "cell_type": "code",
   "execution_count": 2,
   "id": "644a730f-a210-44b6-b84e-2a7b09567abd",
   "metadata": {},
   "outputs": [
    {
     "name": "stdout",
     "output_type": "stream",
     "text": [
      "1\n",
      "<class 'int'>\n"
     ]
    }
   ],
   "source": [
    "print(1)\n",
    "print(type(1))"
   ]
  },
  {
   "cell_type": "markdown",
   "id": "a1bde313-8a78-48e9-a300-9b88b45d8eeb",
   "metadata": {},
   "source": [
    "# Float\n",
    "Angka tidak bulat seperti 2.5,  3.2"
   ]
  },
  {
   "cell_type": "code",
   "execution_count": 4,
   "id": "f9be8f06-08cc-4e1b-8067-1adbd60bba9e",
   "metadata": {},
   "outputs": [
    {
     "name": "stdout",
     "output_type": "stream",
     "text": [
      "3.2\n",
      "<class 'float'>\n"
     ]
    }
   ],
   "source": [
    "print (3.2)\n",
    "print (type(3.2))"
   ]
  },
  {
   "cell_type": "markdown",
   "id": "0ac4ecfa-de80-4270-aee5-b1405167a6eb",
   "metadata": {},
   "source": [
    "# String\n",
    "kumpulan karakter (harus menggunakan kutip)\n",
    "-' (kutip satu)\n",
    "-\" (kutip dua)"
   ]
  },
  {
   "cell_type": "code",
   "execution_count": 10,
   "id": "7785e69e-e2e3-4d69-9bbb-5b65b11c1991",
   "metadata": {},
   "outputs": [
    {
     "name": "stdout",
     "output_type": "stream",
     "text": [
      " Toys r' us\n",
      "Toys r us\n"
     ]
    }
   ],
   "source": [
    "print(\" Toys r' us\")\n",
    "print('Toys r us')"
   ]
  },
  {
   "cell_type": "markdown",
   "id": "7b9def6f-c448-454d-b974-b1dcb253505e",
   "metadata": {
    "tags": []
   },
   "source": [
    "# Boolean \n",
    "True or false"
   ]
  },
  {
   "cell_type": "code",
   "execution_count": 31,
   "id": "93496976-a626-4a5f-bbb3-0803e4ef7929",
   "metadata": {},
   "outputs": [
    {
     "name": "stdout",
     "output_type": "stream",
     "text": [
      "True False\n",
      "<class 'bool'> <class 'bool'>\n"
     ]
    }
   ],
   "source": [
    "print(True,False)\n",
    "print (type(True), type(False))"
   ]
  },
  {
   "cell_type": "markdown",
   "id": "d76475f1-a447-4cb9-aae1-a10494ae288d",
   "metadata": {},
   "source": [
    "Convert tipe data\n",
    "- int -> float\n",
    "- int -> str\n",
    "- int -> bool\n",
    "- float -> int\n",
    "- float -> str \n",
    "- float -> bool"
   ]
  },
  {
   "cell_type": "code",
   "execution_count": 34,
   "id": "321af44f-3b4e-48c3-b47f-836f33554c8a",
   "metadata": {},
   "outputs": [
    {
     "data": {
      "text/plain": [
       "2"
      ]
     },
     "execution_count": 34,
     "metadata": {},
     "output_type": "execute_result"
    }
   ],
   "source": [
    "\n"
   ]
  },
  {
   "cell_type": "markdown",
   "id": "022c79a8-7e83-4e84-a5a9-3388a6b5d144",
   "metadata": {},
   "source": [
    "# variable\n",
    "memberi nama ke data\n",
    "\"assign\" atau \"assign variable\" agar bisa dipanggil lagi"
   ]
  },
  {
   "cell_type": "code",
   "execution_count": 35,
   "id": "5a871353-1906-4757-b4f2-82df9c86b52a",
   "metadata": {},
   "outputs": [],
   "source": [
    "nama = \"Toys 'R Us\""
   ]
  },
  {
   "cell_type": "code",
   "execution_count": 37,
   "id": "0859d9d4-e613-4edb-be0d-629589492226",
   "metadata": {},
   "outputs": [
    {
     "name": "stdout",
     "output_type": "stream",
     "text": [
      "Toys 'R Us\n"
     ]
    }
   ],
   "source": [
    "print(nama)\n"
   ]
  },
  {
   "cell_type": "code",
   "execution_count": 38,
   "id": "98644dfe-464a-4cd5-874c-1be1a00d2542",
   "metadata": {},
   "outputs": [],
   "source": [
    "angka = 8"
   ]
  },
  {
   "cell_type": "code",
   "execution_count": 39,
   "id": "84acde63-7a91-471c-bb04-9ab88ba4cfbb",
   "metadata": {},
   "outputs": [
    {
     "name": "stdout",
     "output_type": "stream",
     "text": [
      "8\n"
     ]
    }
   ],
   "source": [
    "print(angka)\n"
   ]
  },
  {
   "cell_type": "code",
   "execution_count": 40,
   "id": "1439995c-0fad-4cff-a2f0-56178c9b5af9",
   "metadata": {},
   "outputs": [
    {
     "name": "stdout",
     "output_type": "stream",
     "text": [
      "15\n"
     ]
    }
   ],
   "source": [
    "print(angka+7)"
   ]
  },
  {
   "cell_type": "code",
   "execution_count": 50,
   "id": "70ab9635-16b1-4336-8af0-efcb33d4248f",
   "metadata": {},
   "outputs": [],
   "source": [
    "# Variable yang belum ada isi berarti None\n",
    "toko = None"
   ]
  },
  {
   "cell_type": "code",
   "execution_count": 51,
   "id": "c67dbd3b-ad91-477b-b8e0-da1e4302f297",
   "metadata": {},
   "outputs": [],
   "source": [
    "# varuavke bisa diganti \"Re-assign\"\n",
    "toko = \"toko kue kering\""
   ]
  },
  {
   "cell_type": "code",
   "execution_count": 52,
   "id": "6db9f326-53bc-4099-9fd4-efe18eb646f3",
   "metadata": {},
   "outputs": [
    {
     "name": "stdout",
     "output_type": "stream",
     "text": [
      "toko kue kering\n"
     ]
    }
   ],
   "source": [
    "print (toko)"
   ]
  },
  {
   "cell_type": "code",
   "execution_count": 53,
   "id": "00ffc94f-638a-4eda-bf60-1e6c5beef8d3",
   "metadata": {},
   "outputs": [],
   "source": [
    "name = \"Ihsan\"\n",
    "age = 16"
   ]
  },
  {
   "cell_type": "code",
   "execution_count": 54,
   "id": "24563b79-080d-4a22-a4e8-65d722d9db98",
   "metadata": {},
   "outputs": [
    {
     "name": "stdout",
     "output_type": "stream",
     "text": [
      "Ihsan 16\n"
     ]
    }
   ],
   "source": [
    "print(name,age)"
   ]
  },
  {
   "cell_type": "markdown",
   "id": "fc5ad7ce-55f8-49ed-82d3-770282c4a72a",
   "metadata": {},
   "source": [
    "## Peraturan Variable\n",
    "1. Variable tidak boleh dimuali dengan angka\n",
    "2. saat memberi nama, gunakan snake_case:\n",
    "    - huruf kecil semua\n",
    "    - spasi digantikan _\n",
    "3. contoh name_of_school"
   ]
  },
  {
   "cell_type": "code",
   "execution_count": 56,
   "id": "a02a9825-9c8d-4166-b623-3d2a172718c9",
   "metadata": {},
   "outputs": [],
   "source": [
    "name_of_school = \"Madina Islamic School\""
   ]
  },
  {
   "cell_type": "code",
   "execution_count": 57,
   "id": "26d22465-c394-4a9d-8c69-e7773aa6f032",
   "metadata": {},
   "outputs": [
    {
     "name": "stdout",
     "output_type": "stream",
     "text": [
      "Madina Islamic School\n"
     ]
    }
   ],
   "source": [
    "print(name_of_school)"
   ]
  },
  {
   "cell_type": "markdown",
   "id": "9e3f0c2f-15e8-404e-8111-bbdc10a74aa1",
   "metadata": {},
   "source": [
    "# manipulasi dara dengan Operator dan Expression Python\n",
    "1. Manipulasi angka dengan operator matematika"
   ]
  },
  {
   "cell_type": "code",
   "execution_count": 60,
   "id": "7c9ad82b-faea-40bc-9fb4-3551fd2d8e89",
   "metadata": {},
   "outputs": [
    {
     "name": "stdout",
     "output_type": "stream",
     "text": [
      "17\n",
      "3\n",
      "70\n",
      "1.4285714285714286\n",
      "3\n",
      "10000000\n"
     ]
    }
   ],
   "source": [
    "a = 10\n",
    "b = 7\n",
    "\n",
    "print (a + b)\n",
    "print (a - b)\n",
    "print (a * b)\n",
    "print (a / b) \n",
    "print (a % b) # modulo\n",
    "print (a ** b) # pangkat"
   ]
  },
  {
   "cell_type": "code",
   "execution_count": null,
   "id": "ec34d143-e4a7-48a4-afd9-03b29b901666",
   "metadata": {},
   "outputs": [],
   "source": []
  },
  {
   "cell_type": "code",
   "execution_count": 67,
   "id": "dc97fe15-73bb-4ad7-b536-10dbbc669da6",
   "metadata": {},
   "outputs": [
    {
     "name": "stdout",
     "output_type": "stream",
     "text": [
      "False\n",
      "True\n",
      "False\n",
      "True\n",
      "False\n",
      "True\n"
     ]
    }
   ],
   "source": [
    "a = 10\n",
    "b = 7\n",
    "\n",
    "# apakah a sama atau beda dengan b \n",
    "print (a == b)\n",
    "print (a != b)\n",
    "\n",
    "# apakah a lebih besar/kecil dari b\n",
    "print (a < b)\n",
    "print (a > b)\n",
    "print (a <= b)\n",
    "print (a >= b)"
   ]
  },
  {
   "cell_type": "markdown",
   "id": "9a8e59ee-7dec-4eca-842c-ccffc5a0a9e7",
   "metadata": {},
   "source": [
    "3. manipulasi string dengan operator matematika"
   ]
  },
  {
   "cell_type": "code",
   "execution_count": 77,
   "id": "8fe4aba5-8e2b-4c70-a965-a7ad7d9c72a3",
   "metadata": {},
   "outputs": [
    {
     "name": "stdout",
     "output_type": "stream",
     "text": [
      "andi bilang halo\n",
      "andiandiandi\n"
     ]
    }
   ],
   "source": [
    "a = \"andi\"\n",
    "\n",
    "print(a + \" bilang halo\")\n",
    "print(a*3)"
   ]
  },
  {
   "cell_type": "markdown",
   "id": "2e5057bc-4d43-4229-add7-8c6eeae7386c",
   "metadata": {},
   "source": [
    "5. Operator khusus string untuk ubah case\n",
    "- upper\n",
    "- lower\n",
    "- swapcase\n",
    "- title\n",
    "- capitalize"
   ]
  },
  {
   "cell_type": "code",
   "execution_count": 78,
   "id": "2d74c996-4465-4d47-9774-4f1493318dec",
   "metadata": {},
   "outputs": [
    {
     "name": "stdout",
     "output_type": "stream",
     "text": [
      "Saya anak sholeh\n"
     ]
    }
   ],
   "source": [
    "a = \"Saya anak sholeh\"\n",
    "print(a)"
   ]
  },
  {
   "cell_type": "code",
   "execution_count": 88,
   "id": "96a0e401-d7d1-492f-bda9-41ed19fc2101",
   "metadata": {},
   "outputs": [
    {
     "name": "stdout",
     "output_type": "stream",
     "text": [
      "SAYA ANAK SHOLEH\n",
      "saya anak sholeh\n",
      "sAYA ANAK SHOLEH\n",
      "Saya Anak Sholeh\n",
      "Saya anak sholeh\n"
     ]
    }
   ],
   "source": [
    "print(a.upper())\n",
    "print(a.lower())\n",
    "print(a.swapcase())\n",
    "print(a.title())\n",
    "print(a.capitalize())"
   ]
  },
  {
   "cell_type": "markdown",
   "id": "a3b88309-bdf5-40fe-94a3-61330f4b32bb",
   "metadata": {},
   "source": [
    "# List\n",
    "tipe data yang ada banyak data di satu tempat []"
   ]
  },
  {
   "cell_type": "code",
   "execution_count": 89,
   "id": "33cf7299-2726-4975-a42e-bba0ff7bcc80",
   "metadata": {},
   "outputs": [],
   "source": [
    "kelas = [\"iman\",\"ammar\",\"zahrah\",\"mudz\",\"Ihsan\"]"
   ]
  },
  {
   "cell_type": "code",
   "execution_count": 90,
   "id": "35dd7bcb-33ad-4be4-8488-061e1d42ec5d",
   "metadata": {},
   "outputs": [
    {
     "name": "stdout",
     "output_type": "stream",
     "text": [
      "['iman', 'ammar', 'zahrah', 'mudz', 'Ihsan']\n"
     ]
    }
   ],
   "source": [
    "print(kelas)"
   ]
  },
  {
   "cell_type": "code",
   "execution_count": 94,
   "id": "a8d9bb34-455f-40c4-a632-43d03f94b796",
   "metadata": {},
   "outputs": [
    {
     "name": "stdout",
     "output_type": "stream",
     "text": [
      "iman\n",
      "Ihsan\n",
      "zahrah\n"
     ]
    }
   ],
   "source": [
    "print(kelas[0])\n",
    "print(kelas[4])\n",
    "print(kelas[2])"
   ]
  },
  {
   "cell_type": "code",
   "execution_count": 97,
   "id": "9b471cfe-2473-467b-90dd-194d3be6c349",
   "metadata": {},
   "outputs": [
    {
     "data": {
      "text/plain": [
       "'zahrah'"
      ]
     },
     "execution_count": 97,
     "metadata": {},
     "output_type": "execute_result"
    }
   ],
   "source": [
    "# apabila banyak harus pakai print\n",
    "kelas[1]\n",
    "kelas[4]\n",
    "kelas[2]"
   ]
  },
  {
   "cell_type": "code",
   "execution_count": 101,
   "id": "d35b0406-1106-494e-8fcd-08eb650eebed",
   "metadata": {},
   "outputs": [],
   "source": [
    "# nambah \"ryan\" ke kelas .append\n",
    "kelas.append(\"ryan\")"
   ]
  },
  {
   "cell_type": "code",
   "execution_count": 102,
   "id": "c1ed33bb-812f-48eb-90eb-569c8bd28bc8",
   "metadata": {},
   "outputs": [
    {
     "name": "stdout",
     "output_type": "stream",
     "text": [
      "['iman', 'ammar', 'zahrah', 'mudz', 'Ihsan', 'ryan']\n"
     ]
    }
   ],
   "source": [
    "print(kelas)"
   ]
  },
  {
   "cell_type": "code",
   "execution_count": 103,
   "id": "440b947d-1589-4a3e-afff-e02063400890",
   "metadata": {},
   "outputs": [],
   "source": [
    "# mengurangkan mudz\n",
    "kelas.remove(\"mudz\")"
   ]
  },
  {
   "cell_type": "code",
   "execution_count": 104,
   "id": "3b402d1f-e410-4814-be4e-24c1e0647427",
   "metadata": {},
   "outputs": [
    {
     "name": "stdout",
     "output_type": "stream",
     "text": [
      "['iman', 'ammar', 'zahrah', 'Ihsan', 'ryan']\n"
     ]
    }
   ],
   "source": [
    "print(kelas)"
   ]
  },
  {
   "cell_type": "code",
   "execution_count": 105,
   "id": "2d5baa3f-0ecb-46a7-a278-727077f229f2",
   "metadata": {},
   "outputs": [
    {
     "name": "stdout",
     "output_type": "stream",
     "text": [
      "['iman', 'ammar', 'zahrah', 'Ihsan', 'ryan', 'mudz']\n"
     ]
    }
   ],
   "source": [
    "kelas.append(\"mudz\")\n",
    "print(kelas)"
   ]
  },
  {
   "cell_type": "code",
   "execution_count": 106,
   "id": "64c6dcd7-e622-4340-a7ba-81b76d526077",
   "metadata": {},
   "outputs": [
    {
     "name": "stdout",
     "output_type": "stream",
     "text": [
      "['iman', 'ammar', 'zahrah', 'IHSAN', 'ryan', 'mudz']\n"
     ]
    }
   ],
   "source": [
    "# ubah ihsan menjadi huruf besar\n",
    "# murid ke 3\n",
    "# murid ke 2\n",
    "kelas[3] = kelas[3].upper()\n",
    "print(kelas)"
   ]
  },
  {
   "cell_type": "markdown",
   "id": "d878e76c-270e-4a0a-938a-4268bef040aa",
   "metadata": {},
   "source": [
    "tambahan\n",
    "-  isi List bisa tipe data apapun, campur juga boleh\n",
    "- index tidak harus positif 0,1,2,3,4... bisa juga hitung mundur dari kanan ke kiri -1 -2..."
   ]
  },
  {
   "cell_type": "code",
   "execution_count": 108,
   "id": "037a1646-3233-4ee6-b5c3-37e9e2957ccc",
   "metadata": {},
   "outputs": [
    {
     "name": "stdout",
     "output_type": "stream",
     "text": [
      "[123, 4.6, 'a', True, None, ['a', 'n', 'd'], 0]\n"
     ]
    }
   ],
   "source": [
    "random_list = [123, 4.6,  \"a\", True, None, [\"a\", \"n\", \"d\"], 0]\n",
    "print(random_list)"
   ]
  },
  {
   "cell_type": "code",
   "execution_count": 111,
   "id": "16e6b490-3610-42e1-96bd-8df9f03656b6",
   "metadata": {},
   "outputs": [
    {
     "name": "stdout",
     "output_type": "stream",
     "text": [
      "mudz\n",
      "['iman', 'ammar', 'zahrah', 'IHSAN', 'ryan', 'mudz']\n"
     ]
    }
   ],
   "source": [
    "#ambil murid terakhir\n",
    "print(kelas[-1])\n",
    "print(kelas)"
   ]
  },
  {
   "cell_type": "code",
   "execution_count": 145,
   "id": "a29a7aba-1c6a-4e32-bd9a-61cc72ab371b",
   "metadata": {},
   "outputs": [
    {
     "name": "stdout",
     "output_type": "stream",
     "text": [
      "['ammar', 'zahrah']\n"
     ]
    }
   ],
   "source": [
    "# ambil murid ke 3 dan 4\n",
    "# index ke 3 dan 4\n",
    "print(kelas[1:3])"
   ]
  },
  {
   "cell_type": "code",
   "execution_count": 125,
   "id": "2178ccc9-54ff-42b1-8e34-6928908e51e7",
   "metadata": {},
   "outputs": [
    {
     "name": "stdout",
     "output_type": "stream",
     "text": [
      "['iman', 'ammar', 'zahrah', 'IHSAN', 'ryan', 'mudz', 'kevin', 'john']\n"
     ]
    }
   ],
   "source": [
    "print(kelas + [\"kevin\" , \"john\"])"
   ]
  },
  {
   "cell_type": "code",
   "execution_count": 126,
   "id": "ca7740f3-2937-42cc-8740-4125148c7ffb",
   "metadata": {},
   "outputs": [],
   "source": [
    "# Beda dengan .append"
   ]
  },
  {
   "cell_type": "code",
   "execution_count": 122,
   "id": "9aa692f4-6d9e-4532-aee5-f2a64c32a60b",
   "metadata": {},
   "outputs": [
    {
     "data": {
      "text/plain": [
       "False"
      ]
     },
     "execution_count": 122,
     "metadata": {},
     "output_type": "execute_result"
    }
   ],
   "source": [
    "\"kevin\" in kelas"
   ]
  },
  {
   "cell_type": "code",
   "execution_count": 127,
   "id": "794c22fe-362d-4d2e-bcf7-274279a81787",
   "metadata": {},
   "outputs": [
    {
     "data": {
      "text/plain": [
       "True"
      ]
     },
     "execution_count": 127,
     "metadata": {},
     "output_type": "execute_result"
    }
   ],
   "source": [
    "\"IHSAN\" in kelas"
   ]
  },
  {
   "cell_type": "code",
   "execution_count": 169,
   "id": "e7c9765d-a7b1-4bc2-8f0b-668948fe06ab",
   "metadata": {},
   "outputs": [
    {
     "name": "stdout",
     "output_type": "stream",
     "text": [
      "apelapelapel\n"
     ]
    }
   ],
   "source": [
    "print(\"apel\"*3)"
   ]
  },
  {
   "cell_type": "markdown",
   "id": "21ba7ef6-8377-4b85-a456-b157caf1df5a",
   "metadata": {},
   "source": [
    "# Tuple\n",
    "mirip list tapi isinya tidak boleh diubah"
   ]
  },
  {
   "cell_type": "code",
   "execution_count": 132,
   "id": "f464fc2b-377c-4058-b8cb-1eae848c9460",
   "metadata": {},
   "outputs": [
    {
     "name": "stdout",
     "output_type": "stream",
     "text": [
      "<class 'tuple'>\n"
     ]
    }
   ],
   "source": [
    "# membuat tuple dengan ()\n",
    "nilai = ()\n",
    "print(type(nilai))"
   ]
  },
  {
   "cell_type": "code",
   "execution_count": 142,
   "id": "7ee7c3e6-2b8c-4527-8d3c-a11d550d3400",
   "metadata": {},
   "outputs": [
    {
     "name": "stdout",
     "output_type": "stream",
     "text": [
      "60\n",
      "50\n"
     ]
    }
   ],
   "source": [
    "nilai = (60,70,50)\n",
    "print(nilai[0])\n",
    "print(nilai[2])"
   ]
  },
  {
   "cell_type": "markdown",
   "id": "32638f60-ba1e-4551-8ef5-850c6c097391",
   "metadata": {},
   "source": [
    "# Dictionary\n",
    "- seperti membuat list yang index nya kita custom sendiri\n",
    "- seperti membuat objek dan mendeskripsikan ke komputer, misalnya orang itu apam orang itu punya nama, namanya apa? dst\n",
    "\n",
    "setiap item yang ada di dalam dictionary adalah sepasang index: value"
   ]
  },
  {
   "cell_type": "code",
   "execution_count": 146,
   "id": "d8b58e8f-5635-44c6-822f-72de30c04b33",
   "metadata": {},
   "outputs": [
    {
     "name": "stdout",
     "output_type": "stream",
     "text": [
      "<class 'dict'>\n"
     ]
    }
   ],
   "source": [
    "# bikin orang\n",
    "orang = {}\n",
    "print(type(orang))"
   ]
  },
  {
   "cell_type": "code",
   "execution_count": 165,
   "id": "b1b05e2d-8789-443d-9a75-b15756b2a9d7",
   "metadata": {},
   "outputs": [
    {
     "name": "stdout",
     "output_type": "stream",
     "text": [
      "{'nama': 'andhika', 'umur': 20, 'hobi': ['makan', 'tidur', 'programming']}\n"
     ]
    }
   ],
   "source": [
    "orang = {\n",
    "    \"nama\" : \"andhika\",\n",
    "    \"umur\" : 20,\n",
    "    \"hobi\" : [\"makan\",\"tidur\",\"programming\"]\n",
    "}\n",
    "\n",
    "print(orang)"
   ]
  },
  {
   "cell_type": "code",
   "execution_count": 155,
   "id": "f3afaa16-ebea-40e0-bb2f-45987e6399a5",
   "metadata": {},
   "outputs": [
    {
     "name": "stdout",
     "output_type": "stream",
     "text": [
      "andhika\n"
     ]
    }
   ],
   "source": [
    "print(orang[\"nama\"])"
   ]
  },
  {
   "cell_type": "code",
   "execution_count": 156,
   "id": "0d56ac6f-e489-4a52-aaec-04225c03a164",
   "metadata": {},
   "outputs": [
    {
     "name": "stdout",
     "output_type": "stream",
     "text": [
      "20\n"
     ]
    }
   ],
   "source": [
    "print(orang[\"umur\"])"
   ]
  },
  {
   "cell_type": "code",
   "execution_count": 157,
   "id": "e241d436-bff0-47e5-9195-90c1e7468c0b",
   "metadata": {},
   "outputs": [
    {
     "name": "stdout",
     "output_type": "stream",
     "text": [
      "['makan', 'tidur', 'programming']\n"
     ]
    }
   ],
   "source": [
    "print(orang[\"hobi\"])"
   ]
  },
  {
   "cell_type": "code",
   "execution_count": 159,
   "id": "d15fb610-91d4-459e-9bd9-303cf2f2431a",
   "metadata": {},
   "outputs": [
    {
     "name": "stdout",
     "output_type": "stream",
     "text": [
      "programming\n"
     ]
    }
   ],
   "source": [
    "print(orang[\"hobi\"][-1])"
   ]
  },
  {
   "cell_type": "code",
   "execution_count": 166,
   "id": "ac19b244-b4bc-48f6-9a7b-420ff4132e31",
   "metadata": {},
   "outputs": [
    {
     "name": "stdout",
     "output_type": "stream",
     "text": [
      "{'nama': 'andhika widjaja', 'umur': 20, 'hobi': ['makan', 'tidur', 'programming']}\n"
     ]
    }
   ],
   "source": [
    "# edit dictionary (tambahkan nama belakang widjaja)\n",
    "orang[\"nama\"] = orang[\"nama\"] + \" widjaja\"\n",
    "print(orang)"
   ]
  },
  {
   "cell_type": "code",
   "execution_count": 167,
   "id": "e852bbb2-9158-4298-8d6a-a3b062760914",
   "metadata": {},
   "outputs": [
    {
     "name": "stdout",
     "output_type": "stream",
     "text": [
      "{'nama': 'andhika widjaja', 'umur': 20, 'hobi': ['makan', 'tidur', 'programming', 'sepeda']}\n"
     ]
    }
   ],
   "source": [
    "orang[\"hobi\"].append('sepeda')\n",
    "print(orang)"
   ]
  },
  {
   "cell_type": "code",
   "execution_count": 174,
   "id": "e662260e-b7dc-484b-81f1-8898688b9344",
   "metadata": {},
   "outputs": [
    {
     "name": "stdout",
     "output_type": "stream",
     "text": [
      "{}\n"
     ]
    }
   ],
   "source": [
    "orang = {}\n",
    "print(orang)"
   ]
  },
  {
   "cell_type": "code",
   "execution_count": 175,
   "id": "fda24da9-8175-439b-8c81-5ca58d77a144",
   "metadata": {},
   "outputs": [
    {
     "name": "stdout",
     "output_type": "stream",
     "text": [
      "{'nama': 'budi'}\n"
     ]
    }
   ],
   "source": [
    "orang[\"nama\"] = \"budi\"\n",
    "print(orang)"
   ]
  },
  {
   "cell_type": "code",
   "execution_count": 176,
   "id": "729f4161-0fd3-43eb-9cd7-0a87eae72f41",
   "metadata": {},
   "outputs": [
    {
     "name": "stdout",
     "output_type": "stream",
     "text": [
      "{'nama': 'budi', 'umur': '15'}\n"
     ]
    }
   ],
   "source": [
    "orang[\"umur\"] = \"15\"\n",
    "print(orang)"
   ]
  },
  {
   "cell_type": "code",
   "execution_count": 183,
   "id": "c85a92cc-5834-485e-81f6-fce453d5f247",
   "metadata": {},
   "outputs": [
    {
     "name": "stdout",
     "output_type": "stream",
     "text": [
      "{'nama': 'budi', 'umur': '15', 'berkacamata': False, 'bertato': True, 'menikah': False}\n"
     ]
    }
   ],
   "source": [
    "orang [\"berkacamata\"] = False\n",
    "orang [\"bertato\"] = True\n",
    "orang [\"menikah\"] = False\n",
    "\n",
    "print(orang)"
   ]
  },
  {
   "cell_type": "code",
   "execution_count": 191,
   "id": "97691466-f98f-4cae-9574-9a39d91e8a08",
   "metadata": {},
   "outputs": [
    {
     "data": {
      "text/plain": [
       "{'nama': 'budi', 'umur': 15}"
      ]
     },
     "execution_count": 191,
     "metadata": {},
     "output_type": "execute_result"
    }
   ],
   "source": [
    "{'nama' : \"budi\",\n",
    " 'umur' : 15\n",
    "}"
   ]
  }
 ],
 "metadata": {
  "kernelspec": {
   "display_name": "Python 3 (ipykernel)",
   "language": "python",
   "name": "python3"
  },
  "language_info": {
   "codemirror_mode": {
    "name": "ipython",
    "version": 3
   },
   "file_extension": ".py",
   "mimetype": "text/x-python",
   "name": "python",
   "nbconvert_exporter": "python",
   "pygments_lexer": "ipython3",
   "version": "3.9.7"
  }
 },
 "nbformat": 4,
 "nbformat_minor": 5
}
