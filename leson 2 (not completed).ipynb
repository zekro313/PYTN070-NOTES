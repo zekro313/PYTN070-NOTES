{
 "cells": [
  {
   "cell_type": "markdown",
   "id": "70fefbee-af10-4ba6-a1bf-db9a74bc9279",
   "metadata": {},
   "source": [
    "# notes to self\n",
    "jan telat masuk kelas euy "
   ]
  },
  {
   "cell_type": "code",
   "execution_count": 21,
   "id": "30b2fbfc-d3f5-412a-8bbb-4ea54744d7e3",
   "metadata": {},
   "outputs": [
    {
     "name": "stdout",
     "output_type": "stream",
     "text": [
      "tidak boleh masuk bar\n"
     ]
    }
   ],
   "source": [
    "umur = 19\n",
    "uang = 125000\n",
    "\n",
    "if umur >= 21 :\n",
    "    print('boleh masuk bar') \n",
    "    if uang >= 100000 :\n",
    "        print('bisa beli minum')\n",
    "    else : print('tidak bisa beli minum')\n",
    "else: print('tidak boleh masuk bar')"
   ]
  },
  {
   "cell_type": "code",
   "execution_count": 23,
   "id": "709f0dd0-f95d-4b20-96ec-61584c76cdb9",
   "metadata": {},
   "outputs": [
    {
     "name": "stdout",
     "output_type": "stream",
     "text": [
      "bukan lansia\n",
      "bukan lansia\n",
      "bukan lansia\n",
      "bukan lansia\n",
      "bukan lansia\n"
     ]
    }
   ],
   "source": [
    "umur = 55\n",
    "\n",
    "while umur > 60 :\n",
    "    umur -= 1\n",
    "    print ('lansia')\n",
    "    \n",
    "while umur < 60 :\n",
    "    umur += 1\n",
    "    print ('bukan lansia')\n",
    "\n"
   ]
  },
  {
   "cell_type": "code",
   "execution_count": 17,
   "id": "68fa2c88-7901-4815-acbc-66385fdb8980",
   "metadata": {},
   "outputs": [
    {
     "name": "stdout",
     "output_type": "stream",
     "text": [
      "tidak boleh masuk bar\n"
     ]
    }
   ],
   "source": [
    "umur = 18\n",
    "uang = 125000\n",
    "\n",
    "if umur > 21 :\n",
    "    print('boleh masuk')\n",
    "    if uang >= 100000:\n",
    "        print('bisa beli minum')\n",
    "    else : print ('tidak bisa beli minum')\n",
    "else : print ('tidak boleh masuk bar')"
   ]
  },
  {
   "cell_type": "markdown",
   "id": "8c967d50-8f6e-4080-b169-10a9dcf56060",
   "metadata": {},
   "source": [
    "# for loop\n",
    "loop melewati koleksi :\n",
    "- list\n",
    "- tuple\n",
    "- dictionary\n",
    "- range\n",
    "- string (koleksi karakter)"
   ]
  },
  {
   "cell_type": "code",
   "execution_count": 24,
   "id": "45ed956d-b225-47ab-b246-2a610751d6d9",
   "metadata": {},
   "outputs": [],
   "source": [
    "kelas = ['ihsan' , 'amar' , 'mudz' , 'zahrah']"
   ]
  },
  {
   "cell_type": "code",
   "execution_count": 25,
   "id": "20c87c1f-d0d4-45aa-ae49-275f91c2f654",
   "metadata": {},
   "outputs": [
    {
     "name": "stdout",
     "output_type": "stream",
     "text": [
      "['ihsan', 'amar', 'mudz', 'zahrah']\n"
     ]
    }
   ],
   "source": [
    "print (kelas)"
   ]
  },
  {
   "cell_type": "code",
   "execution_count": 33,
   "id": "be79167e-ca3b-4295-bccc-c38f415edeeb",
   "metadata": {},
   "outputs": [
    {
     "ename": "SyntaxError",
     "evalue": "invalid syntax (Temp/ipykernel_50124/1763958346.py, line 2)",
     "output_type": "error",
     "traceback": [
      "\u001b[1;36m  File \u001b[1;32m\"C:\\Users\\user\\AppData\\Local\\Temp/ipykernel_50124/1763958346.py\"\u001b[1;36m, line \u001b[1;32m2\u001b[0m\n\u001b[1;33m    print('selamat datang di kelas' murid)\u001b[0m\n\u001b[1;37m                                    ^\u001b[0m\n\u001b[1;31mSyntaxError\u001b[0m\u001b[1;31m:\u001b[0m invalid syntax\n"
     ]
    }
   ],
   "source": [
    "for murid in kelas:\n",
    "    print('selamat datang di kelas' murid)"
   ]
  },
  {
   "cell_type": "code",
   "execution_count": 34,
   "id": "11240067-7180-4ea9-826e-b19d45050bd4",
   "metadata": {},
   "outputs": [
    {
     "name": "stdout",
     "output_type": "stream",
     "text": [
      "{'nama': 'andhika', 'umur': 20, 'hobi': ['makan', 'tidur', 'programming']}\n"
     ]
    }
   ],
   "source": [
    "orang = {\n",
    "    \"nama\" : \"andhika\",\n",
    "    \"umur\" : 20,\n",
    "    \"hobi\" : [\"makan\",\"tidur\",\"programming\"]\n",
    "}\n",
    "\n",
    "print(orang)"
   ]
  },
  {
   "cell_type": "code",
   "execution_count": 35,
   "id": "7a7dc511-242c-4663-af70-ec0cf05542df",
   "metadata": {},
   "outputs": [
    {
     "name": "stdout",
     "output_type": "stream",
     "text": [
      "('nama', 'andhika')\n",
      "nama\n",
      "andhika\n",
      "('umur', 20)\n",
      "umur\n",
      "20\n",
      "('hobi', ['makan', 'tidur', 'programming'])\n",
      "hobi\n",
      "['makan', 'tidur', 'programming']\n"
     ]
    }
   ],
   "source": [
    "for item in orang.items():\n",
    "    print (item)\n",
    "    for i in item: \n",
    "        print(i)"
   ]
  },
  {
   "cell_type": "code",
   "execution_count": 42,
   "id": "f277cb12-6144-46fa-8a70-23c215798706",
   "metadata": {},
   "outputs": [
    {
     "name": "stdout",
     "output_type": "stream",
     "text": [
      "10\n",
      "11\n",
      "12\n",
      "13\n",
      "14\n",
      "15\n",
      "16\n",
      "17\n",
      "18\n",
      "19\n"
     ]
    }
   ],
   "source": [
    "for n in range(10,20):\n",
    "    print(n)"
   ]
  },
  {
   "cell_type": "code",
   "execution_count": 43,
   "id": "4516377e-a91c-4902-b7c4-ba681f1bf061",
   "metadata": {},
   "outputs": [
    {
     "data": {
      "text/plain": [
       "range(10, 100, 20)"
      ]
     },
     "execution_count": 43,
     "metadata": {},
     "output_type": "execute_result"
    }
   ],
   "source": [
    "range (10,100,20)"
   ]
  },
  {
   "cell_type": "code",
   "execution_count": 46,
   "id": "dfb8e8da-9e4f-489c-b330-191c53675720",
   "metadata": {},
   "outputs": [
    {
     "name": "stdout",
     "output_type": "stream",
     "text": [
      "10\n",
      "21\n",
      "32\n",
      "43\n",
      "54\n",
      "65\n",
      "76\n",
      "87\n",
      "98\n"
     ]
    }
   ],
   "source": [
    "for n in range (10,100,11):\n",
    "    print(n)"
   ]
  },
  {
   "cell_type": "code",
   "execution_count": 47,
   "id": "97a40c1e-da54-4f94-971c-f0fe2a04305c",
   "metadata": {},
   "outputs": [
    {
     "data": {
      "text/plain": [
       "range(101, 120, 2)"
      ]
     },
     "execution_count": 47,
     "metadata": {},
     "output_type": "execute_result"
    }
   ],
   "source": [
    "range (101,120,2)"
   ]
  },
  {
   "cell_type": "code",
   "execution_count": 52,
   "id": "e1534fda-ba9b-480f-8a7f-e84cb9ac7e22",
   "metadata": {},
   "outputs": [
    {
     "name": "stdout",
     "output_type": "stream",
     "text": [
      "101\n",
      "103\n",
      "105\n",
      "107\n",
      "109\n",
      "111\n",
      "113\n",
      "115\n",
      "117\n",
      "119\n"
     ]
    }
   ],
   "source": [
    "for n in range (101,121,2):\n",
    "    print(n)"
   ]
  },
  {
   "cell_type": "code",
   "execution_count": 54,
   "id": "2f009f85-faab-424f-9074-f8f692ef9c8a",
   "metadata": {},
   "outputs": [
    {
     "name": "stdin",
     "output_type": "stream",
     "text": [
      "Ketikan karakter:  a\n"
     ]
    },
    {
     "name": "stdout",
     "output_type": "stream",
     "text": [
      "a\n"
     ]
    },
    {
     "name": "stdin",
     "output_type": "stream",
     "text": [
      "Ketikan karakter:  A\n"
     ]
    },
    {
     "name": "stdout",
     "output_type": "stream",
     "text": [
      "a\n"
     ]
    },
    {
     "name": "stdin",
     "output_type": "stream",
     "text": [
      "Ketikan karakter:  stop\n"
     ]
    },
    {
     "name": "stdout",
     "output_type": "stream",
     "text": [
      "stop\n"
     ]
    }
   ],
   "source": [
    "while True:\n",
    "    msg = input(\"Ketikan karakter: \").lower()\n",
    "    print(msg)\n",
    "    if msg == \"stop\":\n",
    "        break"
   ]
  },
  {
   "cell_type": "code",
   "execution_count": 62,
   "id": "a913517b-d73c-454b-9f9a-91a1100d43c1",
   "metadata": {},
   "outputs": [
    {
     "name": "stdout",
     "output_type": "stream",
     "text": [
      "I\n",
      "h\n",
      "s\n",
      "a\n",
      "n\n"
     ]
    }
   ],
   "source": [
    "msg = \"Ihsan\"\n",
    "\n",
    "for huruf in msg:\n",
    "    print(huruf)"
   ]
  }
 ],
 "metadata": {
  "kernelspec": {
   "display_name": "Python 3 (ipykernel)",
   "language": "python",
   "name": "python3"
  },
  "language_info": {
   "codemirror_mode": {
    "name": "ipython",
    "version": 3
   },
   "file_extension": ".py",
   "mimetype": "text/x-python",
   "name": "python",
   "nbconvert_exporter": "python",
   "pygments_lexer": "ipython3",
   "version": "3.9.7"
  }
 },
 "nbformat": 4,
 "nbformat_minor": 5
}
